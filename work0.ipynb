{
  "nbformat": 4,
  "nbformat_minor": 0,
  "metadata": {
    "colab": {
      "provenance": [],
      "authorship_tag": "ABX9TyPRQ7MlTYyWIuucJkq4tepc",
      "include_colab_link": true
    },
    "kernelspec": {
      "name": "python3",
      "display_name": "Python 3"
    },
    "language_info": {
      "name": "python"
    }
  },
  "cells": [
    {
      "cell_type": "markdown",
      "metadata": {
        "id": "view-in-github",
        "colab_type": "text"
      },
      "source": [
        "<a href=\"https://colab.research.google.com/github/HorlyYinky17/cww_tech_learning_check/blob/main/work0.ipynb\" target=\"_parent\"><img src=\"https://colab.research.google.com/assets/colab-badge.svg\" alt=\"Open In Colab\"/></a>"
      ]
    },
    {
      "cell_type": "code",
      "execution_count": 1,
      "metadata": {
        "colab": {
          "base_uri": "https://localhost:8080/"
        },
        "id": "DNsONILAFCAA",
        "outputId": "35b2ffdf-86b9-474a-9057-95db9c9e0fb2"
      },
      "outputs": [
        {
          "output_type": "stream",
          "name": "stdout",
          "text": [
            "Hello world\n"
          ]
        }
      ],
      "source": [
        "print(\"Hello world\")"
      ]
    },
    {
      "cell_type": "markdown",
      "source": [
        "Assignment 1"
      ],
      "metadata": {
        "id": "-B9sumFQMokV"
      }
    },
    {
      "cell_type": "code",
      "source": [
        "#schedule format = (Day schedule, Night schedule)\n",
        "Sunday = [\"go to church\", \"watch football match\"]\n",
        "Monday = [\"go to work\", \"sleep at night\"]\n",
        "Tuesday = [\"visit a friend\", \"study overnight\"]\n",
        "Wednesday = [\"write an exam\", \"party at night\"]\n",
        "Thursday = [\"play football\", \"chat at night\"]\n",
        "Friday = [\"go for choir practice\", \"attend a vigil\"]\n",
        "Saturday = [\"Attend a party\", \"prepare for service\"]\n",
        "\n",
        "# operation to get a particular day to-do\n",
        "print(\"My Tuesday morning schedule is to \", Tuesday[0])\n",
        "print(\"My schedule on friday night is to \", Friday[1])\n",
        "print(\"On saturday, I will\", Saturday[0], \"in the morning, Then i will\", Saturday[1], \"at night\")\n",
        "\n",
        "My_Average_Weekly_schedule = list(Sunday + Monday + Tuesday + Wednesday + Thursday + Friday + Saturday)\n",
        "print(My_Average_Weekly_schedule)\n",
        "\n",
        "len_weekly_schedule = len(My_Average_Weekly_schedule)\n",
        "print(len_weekly_schedule)\n",
        "for i in range(len_weekly_schedule):\n",
        "    if i % 2 == 0:\n",
        "        print(\"Today's schedule is\", My_Average_Weekly_schedule[i: i+2])\n",
        "\n",
        "    # else:\n",
        "    #    print(My_Average_Weekly_schedule[i+1: i+3])\n",
        "# print(\"Monday schedule is\", My_Average_Weekly_schedule[0:2])\n",
        "# for x in My_Average_Weekly_schedule:\n",
        "#    print(My_Average_Weekly_schedule[0: len(x)])\n",
        "# print(item[0], item[1], item[2], item[3], item[4], item[5], item[6], item[7]"
      ],
      "metadata": {
        "colab": {
          "base_uri": "https://localhost:8080/"
        },
        "id": "L5Sq8PZGMsVu",
        "outputId": "c48b35c4-990f-4cb9-ad22-6c220d96ac40"
      },
      "execution_count": 2,
      "outputs": [
        {
          "output_type": "stream",
          "name": "stdout",
          "text": [
            "My Tuesday morning schedule is to  visit a friend\n",
            "My schedule on friday night is to  attend a vigil\n",
            "On saturday, I will Attend a party in the morning, Then i will prepare for service at night\n",
            "['go to church', 'watch football match', 'go to work', 'sleep at night', 'visit a friend', 'study overnight', 'write an exam', 'party at night', 'play football', 'chat at night', 'go for choir practice', 'attend a vigil', 'Attend a party', 'prepare for service']\n",
            "14\n",
            "Today's schedule is ['go to church', 'watch football match']\n",
            "Today's schedule is ['go to work', 'sleep at night']\n",
            "Today's schedule is ['visit a friend', 'study overnight']\n",
            "Today's schedule is ['write an exam', 'party at night']\n",
            "Today's schedule is ['play football', 'chat at night']\n",
            "Today's schedule is ['go for choir practice', 'attend a vigil']\n",
            "Today's schedule is ['Attend a party', 'prepare for service']\n"
          ]
        }
      ]
    }
  ]
}