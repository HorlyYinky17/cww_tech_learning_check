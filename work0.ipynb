{
  "nbformat": 4,
  "nbformat_minor": 0,
  "metadata": {
    "colab": {
      "provenance": [],
      "authorship_tag": "ABX9TyMC+0tJsul2EcBbuh3JF4dj",
      "include_colab_link": true
    },
    "kernelspec": {
      "name": "python3",
      "display_name": "Python 3"
    },
    "language_info": {
      "name": "python"
    }
  },
  "cells": [
    {
      "cell_type": "markdown",
      "metadata": {
        "id": "view-in-github",
        "colab_type": "text"
      },
      "source": [
        "<a href=\"https://colab.research.google.com/github/HorlyYinky17/cww_tech_learning_check/blob/main/work0.ipynb\" target=\"_parent\"><img src=\"https://colab.research.google.com/assets/colab-badge.svg\" alt=\"Open In Colab\"/></a>"
      ]
    },
    {
      "cell_type": "code",
      "execution_count": 1,
      "metadata": {
        "colab": {
          "base_uri": "https://localhost:8080/"
        },
        "collapsed": true,
        "id": "DNsONILAFCAA",
        "outputId": "35b2ffdf-86b9-474a-9057-95db9c9e0fb2"
      },
      "outputs": [
        {
          "output_type": "stream",
          "name": "stdout",
          "text": [
            "Hello world\n"
          ]
        }
      ],
      "source": [
        "print(\"Hello world\")"
      ]
    },
    {
      "cell_type": "markdown",
      "source": [
        "Assignment 1"
      ],
      "metadata": {
        "id": "-B9sumFQMokV"
      }
    },
    {
      "cell_type": "code",
      "source": [
        "#schedule format = (Day schedule, Night schedule)\n",
        "Sunday = [\"go to church\", \"watch football match\"]\n",
        "Monday = [\"go to work\", \"sleep at night\"]\n",
        "Tuesday = [\"visit a friend\", \"study overnight\"]\n",
        "Wednesday = [\"write an exam\", \"party at night\"]\n",
        "Thursday = [\"play football\", \"chat at night\"]\n",
        "Friday = [\"go for choir practice\", \"attend a vigil\"]\n",
        "Saturday = [\"Attend a party\", \"prepare for service\"]\n",
        "\n",
        "# operation to get a particular day to-do\n",
        "print(\"My Tuesday morning schedule is to \", Tuesday[0])\n",
        "print(\"My schedule on friday night is to \", Friday[1])\n",
        "print(\"On saturday, I will\", Saturday[0], \"in the morning, Then i will\", Saturday[1], \"at night\")\n",
        "\n",
        "My_Average_Weekly_schedule = list(Sunday + Monday + Tuesday + Wednesday + Thursday + Friday + Saturday)\n",
        "print(My_Average_Weekly_schedule)\n",
        "\n",
        "len_weekly_schedule = len(My_Average_Weekly_schedule)\n",
        "print(len_weekly_schedule)\n",
        "for i in range(len_weekly_schedule):\n",
        "    if i % 2 == 0:\n",
        "        print(\"Today's schedule is\", My_Average_Weekly_schedule[i: i+2])\n",
        "\n",
        "    # else:\n",
        "    #    print(My_Average_Weekly_schedule[i+1: i+3])\n",
        "# print(\"Monday schedule is\", My_Average_Weekly_schedule[0:2])\n",
        "# for x in My_Average_Weekly_schedule:\n",
        "#    print(My_Average_Weekly_schedule[0: len(x)])\n",
        "# print(item[0], item[1], item[2], item[3], item[4], item[5], item[6], item[7]"
      ],
      "metadata": {
        "colab": {
          "base_uri": "https://localhost:8080/"
        },
        "collapsed": true,
        "id": "L5Sq8PZGMsVu",
        "outputId": "c48b35c4-990f-4cb9-ad22-6c220d96ac40"
      },
      "execution_count": 2,
      "outputs": [
        {
          "output_type": "stream",
          "name": "stdout",
          "text": [
            "My Tuesday morning schedule is to  visit a friend\n",
            "My schedule on friday night is to  attend a vigil\n",
            "On saturday, I will Attend a party in the morning, Then i will prepare for service at night\n",
            "['go to church', 'watch football match', 'go to work', 'sleep at night', 'visit a friend', 'study overnight', 'write an exam', 'party at night', 'play football', 'chat at night', 'go for choir practice', 'attend a vigil', 'Attend a party', 'prepare for service']\n",
            "14\n",
            "Today's schedule is ['go to church', 'watch football match']\n",
            "Today's schedule is ['go to work', 'sleep at night']\n",
            "Today's schedule is ['visit a friend', 'study overnight']\n",
            "Today's schedule is ['write an exam', 'party at night']\n",
            "Today's schedule is ['play football', 'chat at night']\n",
            "Today's schedule is ['go for choir practice', 'attend a vigil']\n",
            "Today's schedule is ['Attend a party', 'prepare for service']\n"
          ]
        }
      ]
    },
    {
      "cell_type": "markdown",
      "source": [
        "PSET 2\n",
        "create a dictionary that contains your basic bio info, which must have property of skills which is a list of your skills"
      ],
      "metadata": {
        "id": "Csz5JgC2UmJ7"
      }
    },
    {
      "cell_type": "code",
      "source": [
        "# creating the dictionary\n",
        "My_Basic_Bio = {\n",
        "    \"Name\": \"Ola\",\n",
        "    \"Age\": \"22\",\n",
        "    \"Sex\": \"Male\",\n",
        "    \"Height\": \"1.69m\",\n",
        "    \"Team\": \"Barcelona\",\n",
        "    \"Skill\": [\"MS Word\", \"MS Excel\", \"MS Powerpoint\", \"Python\", \"HTML\", \"CSS\"],\n",
        "}\n",
        "print(My_Basic_Bio.get(\"Sex\"))"
      ],
      "metadata": {
        "colab": {
          "base_uri": "https://localhost:8080/"
        },
        "collapsed": true,
        "id": "UcCVxHw3waaN",
        "outputId": "b0db1ba8-0028-4454-f45c-e5afd3ba4a48"
      },
      "execution_count": 4,
      "outputs": [
        {
          "output_type": "stream",
          "name": "stdout",
          "text": [
            "Male\n"
          ]
        }
      ]
    },
    {
      "cell_type": "markdown",
      "source": [
        "PSET 3"
      ],
      "metadata": {
        "id": "XvOgVq-CzBJA"
      }
    },
    {
      "cell_type": "code",
      "source": [
        "# To print the Key and values to stdout\n",
        "for key, value in My_Basic_Bio.items():\n",
        "    print(f\"my {key} is/are {value} \")\n",
        "\n",
        "my_skills = [\"Python\", \"HTML\", \"CSS\", \"MS Word\", \"MS Excel\", \"MS Powerpoint\"]\n",
        "for skills in my_skills:\n",
        "    print(\"I am good at\", skills)"
      ],
      "metadata": {
        "colab": {
          "base_uri": "https://localhost:8080/"
        },
        "collapsed": true,
        "id": "zH3Oefl8zEG8",
        "outputId": "71d6cba9-5474-472c-e6bb-95656515c283"
      },
      "execution_count": 5,
      "outputs": [
        {
          "output_type": "stream",
          "name": "stdout",
          "text": [
            "my Name is/are Ola \n",
            "my Age is/are 22 \n",
            "my Sex is/are Male \n",
            "my Height is/are 1.69m \n",
            "my Team is/are Barcelona \n",
            "my Skill is/are ['MS Word', 'MS Excel', 'MS Powerpoint', 'Python', 'HTML', 'CSS'] \n",
            "I am good at Python\n",
            "I am good at HTML\n",
            "I am good at CSS\n",
            "I am good at MS Word\n",
            "I am good at MS Excel\n",
            "I am good at MS Powerpoint\n"
          ]
        }
      ]
    },
    {
      "cell_type": "markdown",
      "source": [
        "PSET 4"
      ],
      "metadata": {
        "id": "ZVSUhqlVzfeK"
      }
    },
    {
      "cell_type": "code",
      "source": [
        "x = [i for i in range(1, 51)]\n",
        "integer_doubled_list = [(lambda x: x * 2) (x) for x in range(1, 51)]\n",
        "result = [x, integer_doubled_list]\n",
        "print(result)"
      ],
      "metadata": {
        "colab": {
          "base_uri": "https://localhost:8080/"
        },
        "id": "Zrf5mlM6zh85",
        "outputId": "b7937ccf-ab47-4e24-ab60-765bebc2c608"
      },
      "execution_count": 7,
      "outputs": [
        {
          "output_type": "stream",
          "name": "stdout",
          "text": [
            "[[1, 2, 3, 4, 5, 6, 7, 8, 9, 10, 11, 12, 13, 14, 15, 16, 17, 18, 19, 20, 21, 22, 23, 24, 25, 26, 27, 28, 29, 30, 31, 32, 33, 34, 35, 36, 37, 38, 39, 40, 41, 42, 43, 44, 45, 46, 47, 48, 49, 50], [2, 4, 6, 8, 10, 12, 14, 16, 18, 20, 22, 24, 26, 28, 30, 32, 34, 36, 38, 40, 42, 44, 46, 48, 50, 52, 54, 56, 58, 60, 62, 64, 66, 68, 70, 72, 74, 76, 78, 80, 82, 84, 86, 88, 90, 92, 94, 96, 98, 100]]\n"
          ]
        }
      ]
    },
    {
      "cell_type": "markdown",
      "source": [
        "We learn more when we do it ourselves. Thanks for the learning Mr Ayobami."
      ],
      "metadata": {
        "id": "zu2Hlfiy0ZCp"
      }
    }
  ]
}